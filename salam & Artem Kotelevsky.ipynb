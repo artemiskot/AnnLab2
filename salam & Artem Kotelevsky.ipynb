{
 "cells": [
  {
   "cell_type": "code",
   "execution_count": 20,
   "metadata": {
    "id": "lkNKyT6Y8aQL"
   },
   "outputs": [],
   "source": [
    "import pandas as pd\n",
    "import numpy as np\n",
    "from catboost import Pool, CatBoostClassifier"
   ]
  },
  {
   "cell_type": "code",
   "execution_count": 21,
   "metadata": {
    "id": "6lygXJh18aQM",
    "outputId": "bcca48a6-e84f-4ebc-d186-43508f3eb6b1",
    "scrolled": false
   },
   "outputs": [
    {
     "name": "stdout",
     "output_type": "stream",
     "text": [
      "Feature names:\n",
      "year, genre, duration, country, language, director, production_company, actors\n",
      "9079\n"
     ]
    }
   ],
   "source": [
    "df = pd.read_csv('IMDb movies.csv')\n",
    "df = df[~df['language'].str.split().str[0].eq(\"None\")]\n",
    "df = df.drop(['imdb_title_id', 'title', 'original_title', 'date_published', \n",
    "         'description', 'usa_gross_income',  'reviews_from_users', \n",
    "         'reviews_from_critics', 'avg_vote', 'votes', 'metascore', 'writer'], axis=1)\n",
    "df = df.reset_index(drop=True)\n",
    "df['profit'] = df['worlwide_gross_income'].str.split().str[-1].astype(float) - df['budget'].str.split().str[-1].astype(float)\n",
    "df = df.dropna()\n",
    "df = df.reset_index(drop=True)\n",
    "df_y = pd.Series([1 if i > 0 else 0 for i in df.profit], name='rating')\n",
    "# df.metascore = df.metascore.astype(int)\n",
    "df = df.drop(['worlwide_gross_income', 'budget', 'profit'], axis=1)\n",
    "print('Feature names:\\n' + ', '.join(list(df)))\n",
    "print(len(df))"
   ]
  },
  {
   "cell_type": "code",
   "execution_count": 22,
   "metadata": {},
   "outputs": [
    {
     "data": {
      "text/html": [
       "<div>\n",
       "<style scoped>\n",
       "    .dataframe tbody tr th:only-of-type {\n",
       "        vertical-align: middle;\n",
       "    }\n",
       "\n",
       "    .dataframe tbody tr th {\n",
       "        vertical-align: top;\n",
       "    }\n",
       "\n",
       "    .dataframe thead th {\n",
       "        text-align: right;\n",
       "    }\n",
       "</style>\n",
       "<table border=\"1\" class=\"dataframe\">\n",
       "  <thead>\n",
       "    <tr style=\"text-align: right;\">\n",
       "      <th></th>\n",
       "      <th>year</th>\n",
       "      <th>genre</th>\n",
       "      <th>duration</th>\n",
       "      <th>country</th>\n",
       "      <th>language</th>\n",
       "      <th>director</th>\n",
       "      <th>production_company</th>\n",
       "      <th>actors</th>\n",
       "    </tr>\n",
       "  </thead>\n",
       "  <tbody>\n",
       "    <tr>\n",
       "      <th>0</th>\n",
       "      <td>1920</td>\n",
       "      <td>Fantasy, Horror, Mystery</td>\n",
       "      <td>76</td>\n",
       "      <td>Germany</td>\n",
       "      <td>German</td>\n",
       "      <td>Robert Wiene</td>\n",
       "      <td>Decla-Bioscop AG</td>\n",
       "      <td>Werner Krauss, Conrad Veidt, Friedrich Feher, ...</td>\n",
       "    </tr>\n",
       "    <tr>\n",
       "      <th>1</th>\n",
       "      <td>1921</td>\n",
       "      <td>Comedy, Drama, Family</td>\n",
       "      <td>68</td>\n",
       "      <td>USA</td>\n",
       "      <td>English</td>\n",
       "      <td>Charles Chaplin</td>\n",
       "      <td>Charles Chaplin Productions</td>\n",
       "      <td>Carl Miller, Edna Purviance, Jackie Coogan, Ch...</td>\n",
       "    </tr>\n",
       "    <tr>\n",
       "      <th>2</th>\n",
       "      <td>1923</td>\n",
       "      <td>Drama, Romance</td>\n",
       "      <td>82</td>\n",
       "      <td>USA</td>\n",
       "      <td>English</td>\n",
       "      <td>Charles Chaplin</td>\n",
       "      <td>Charles Chaplin Productions</td>\n",
       "      <td>Edna Purviance, Clarence Geldart, Carl Miller,...</td>\n",
       "    </tr>\n",
       "    <tr>\n",
       "      <th>3</th>\n",
       "      <td>1925</td>\n",
       "      <td>Adventure, Comedy, Drama</td>\n",
       "      <td>95</td>\n",
       "      <td>USA</td>\n",
       "      <td>English</td>\n",
       "      <td>Charles Chaplin</td>\n",
       "      <td>Charles Chaplin Productions</td>\n",
       "      <td>Charles Chaplin, Mack Swain, Tom Murray, Henry...</td>\n",
       "    </tr>\n",
       "    <tr>\n",
       "      <th>4</th>\n",
       "      <td>1927</td>\n",
       "      <td>Crime, Drama, Mystery</td>\n",
       "      <td>68</td>\n",
       "      <td>UK</td>\n",
       "      <td>English</td>\n",
       "      <td>Alfred Hitchcock</td>\n",
       "      <td>Gainsborough Pictures</td>\n",
       "      <td>Marie Ault, Arthur Chesney, June Tripp, Malcol...</td>\n",
       "    </tr>\n",
       "    <tr>\n",
       "      <th>...</th>\n",
       "      <td>...</td>\n",
       "      <td>...</td>\n",
       "      <td>...</td>\n",
       "      <td>...</td>\n",
       "      <td>...</td>\n",
       "      <td>...</td>\n",
       "      <td>...</td>\n",
       "      <td>...</td>\n",
       "    </tr>\n",
       "    <tr>\n",
       "      <th>9074</th>\n",
       "      <td>2011</td>\n",
       "      <td>Drama</td>\n",
       "      <td>109</td>\n",
       "      <td>Italy</td>\n",
       "      <td>Italian</td>\n",
       "      <td>Daniele Gaglianone</td>\n",
       "      <td>Zaroff Film</td>\n",
       "      <td>Filippo Timi, Stefano Accorsi, Valerio Mastand...</td>\n",
       "    </tr>\n",
       "    <tr>\n",
       "      <th>9075</th>\n",
       "      <td>2010</td>\n",
       "      <td>Action</td>\n",
       "      <td>117</td>\n",
       "      <td>Thailand</td>\n",
       "      <td>Thai</td>\n",
       "      <td>Nirattisai Kaljareuk</td>\n",
       "      <td>Kantana Laboratories Co.</td>\n",
       "      <td>Ad Carabao, Sara Legge, Arnut Rapanit, Lalisa ...</td>\n",
       "    </tr>\n",
       "    <tr>\n",
       "      <th>9076</th>\n",
       "      <td>2012</td>\n",
       "      <td>Drama, Sci-Fi, Thriller</td>\n",
       "      <td>101</td>\n",
       "      <td>Germany, USA</td>\n",
       "      <td>English</td>\n",
       "      <td>Eron Sheean</td>\n",
       "      <td>Instinctive Film</td>\n",
       "      <td>Michael Eklund, Karoline Herfurth, Tómas Lemar...</td>\n",
       "    </tr>\n",
       "    <tr>\n",
       "      <th>9077</th>\n",
       "      <td>2012</td>\n",
       "      <td>Drama</td>\n",
       "      <td>98</td>\n",
       "      <td>Germany</td>\n",
       "      <td>German</td>\n",
       "      <td>Nina Grosse</td>\n",
       "      <td>UFA Fiction</td>\n",
       "      <td>Katja Riemann, Sebastian Koch, Sylvester Groth...</td>\n",
       "    </tr>\n",
       "    <tr>\n",
       "      <th>9078</th>\n",
       "      <td>2012</td>\n",
       "      <td>Action, Comedy, Crime</td>\n",
       "      <td>98</td>\n",
       "      <td>USA</td>\n",
       "      <td>English</td>\n",
       "      <td>Barry Battles</td>\n",
       "      <td>Lleju Productions</td>\n",
       "      <td>Clayne Crawford, Travis Fimmel, Daniel Cudmore...</td>\n",
       "    </tr>\n",
       "  </tbody>\n",
       "</table>\n",
       "<p>9079 rows × 8 columns</p>\n",
       "</div>"
      ],
      "text/plain": [
       "      year                     genre  duration       country language  \\\n",
       "0     1920  Fantasy, Horror, Mystery        76       Germany   German   \n",
       "1     1921     Comedy, Drama, Family        68           USA  English   \n",
       "2     1923            Drama, Romance        82           USA  English   \n",
       "3     1925  Adventure, Comedy, Drama        95           USA  English   \n",
       "4     1927     Crime, Drama, Mystery        68            UK  English   \n",
       "...    ...                       ...       ...           ...      ...   \n",
       "9074  2011                     Drama       109         Italy  Italian   \n",
       "9075  2010                    Action       117      Thailand     Thai   \n",
       "9076  2012   Drama, Sci-Fi, Thriller       101  Germany, USA  English   \n",
       "9077  2012                     Drama        98       Germany   German   \n",
       "9078  2012     Action, Comedy, Crime        98           USA  English   \n",
       "\n",
       "                  director           production_company  \\\n",
       "0             Robert Wiene             Decla-Bioscop AG   \n",
       "1          Charles Chaplin  Charles Chaplin Productions   \n",
       "2          Charles Chaplin  Charles Chaplin Productions   \n",
       "3          Charles Chaplin  Charles Chaplin Productions   \n",
       "4         Alfred Hitchcock        Gainsborough Pictures   \n",
       "...                    ...                          ...   \n",
       "9074    Daniele Gaglianone                  Zaroff Film   \n",
       "9075  Nirattisai Kaljareuk     Kantana Laboratories Co.   \n",
       "9076           Eron Sheean             Instinctive Film   \n",
       "9077           Nina Grosse                  UFA Fiction   \n",
       "9078         Barry Battles            Lleju Productions   \n",
       "\n",
       "                                                 actors  \n",
       "0     Werner Krauss, Conrad Veidt, Friedrich Feher, ...  \n",
       "1     Carl Miller, Edna Purviance, Jackie Coogan, Ch...  \n",
       "2     Edna Purviance, Clarence Geldart, Carl Miller,...  \n",
       "3     Charles Chaplin, Mack Swain, Tom Murray, Henry...  \n",
       "4     Marie Ault, Arthur Chesney, June Tripp, Malcol...  \n",
       "...                                                 ...  \n",
       "9074  Filippo Timi, Stefano Accorsi, Valerio Mastand...  \n",
       "9075  Ad Carabao, Sara Legge, Arnut Rapanit, Lalisa ...  \n",
       "9076  Michael Eklund, Karoline Herfurth, Tómas Lemar...  \n",
       "9077  Katja Riemann, Sebastian Koch, Sylvester Groth...  \n",
       "9078  Clayne Crawford, Travis Fimmel, Daniel Cudmore...  \n",
       "\n",
       "[9079 rows x 8 columns]"
      ]
     },
     "execution_count": 22,
     "metadata": {},
     "output_type": "execute_result"
    }
   ],
   "source": [
    "df"
   ]
  },
  {
   "cell_type": "code",
   "execution_count": 23,
   "metadata": {},
   "outputs": [
    {
     "data": {
      "text/plain": [
       "0    0.553916\n",
       "1    0.446084\n",
       "Name: rating, dtype: float64"
      ]
     },
     "execution_count": 23,
     "metadata": {},
     "output_type": "execute_result"
    }
   ],
   "source": [
    "df_y.value_counts(normalize = True)"
   ]
  },
  {
   "cell_type": "code",
   "execution_count": 24,
   "metadata": {
    "id": "OSVnnw-E8aQO"
   },
   "outputs": [],
   "source": [
    "text_features = ['genre', 'country', 'language', 'director', 'production_company', 'actors']\n",
    "cat_features = ['year', 'duration']"
   ]
  },
  {
   "cell_type": "code",
   "execution_count": 25,
   "metadata": {},
   "outputs": [],
   "source": [
    "from sklearn.model_selection import train_test_split\n",
    "X_train, X_test, y_train, y_test = train_test_split(df, df_y, test_size=0.33, random_state=4)"
   ]
  },
  {
   "cell_type": "code",
   "execution_count": 29,
   "metadata": {
    "id": "UagmD5Gq8aQP"
   },
   "outputs": [],
   "source": [
    "def fit_catboost(X_train, X_test, y_train, y_test, catboost_params={}, verbose=100):\n",
    "    learn_pool = Pool(\n",
    "        X_train, \n",
    "        y_train, \n",
    "        cat_features=cat_features,\n",
    "        text_features=text_features,\n",
    "        feature_names=list(X_train)\n",
    "    )\n",
    "    test_pool = Pool(\n",
    "        X_test, \n",
    "        y_test, \n",
    "        cat_features=cat_features,\n",
    "        text_features=text_features,\n",
    "        feature_names=list(X_train)\n",
    "    )\n",
    "    \n",
    "    catboost_default_params = {\n",
    "        'leaf_estimation_method': 'Gradient',\n",
    "        'learning_rate': 0.01,\n",
    "        'depth': 8,\n",
    "        'bootstrap_type': 'Bernoulli',\n",
    "        'objective': 'CrossEntropy',\n",
    "        'subsample': 0.8,\n",
    "        'random_state': 42,\n",
    "        \"eval_metric\" : 'TotalF1',\n",
    "        \"early_stopping_rounds\" : 100\n",
    "    }\n",
    "    \n",
    "    catboost_default_params.update(catboost_params)\n",
    "    \n",
    "    model = CatBoostClassifier(**catboost_default_params)\n",
    "    model.fit(learn_pool, eval_set=test_pool, verbose=verbose)\n",
    "\n",
    "    return model"
   ]
  },
  {
   "cell_type": "code",
   "execution_count": 30,
   "metadata": {
    "id": "lSF8NDya8aQQ",
    "outputId": "36868993-4d3e-4d3a-c275-ac4ee147e1f5"
   },
   "outputs": [
    {
     "name": "stderr",
     "output_type": "stream",
     "text": [
      "/opt/anaconda3/lib/python3.9/site-packages/catboost/core.py:1325: FutureWarning: iteritems is deprecated and will be removed in a future version. Use .items instead.\n",
      "  self._init_pool(data, label, cat_features, text_features, embedding_features, pairs, weight,\n"
     ]
    },
    {
     "name": "stdout",
     "output_type": "stream",
     "text": [
      "0:\tlearn: 0.6378334\ttest: 0.5900208\tbest: 0.5900208 (0)\ttotal: 652ms\tremaining: 10m 51s\n",
      "100:\tlearn: 0.6639466\ttest: 0.6330094\tbest: 0.6338118 (94)\ttotal: 59.7s\tremaining: 8m 51s\n",
      "200:\tlearn: 0.6769266\ttest: 0.6478075\tbest: 0.6478075 (200)\ttotal: 2m 5s\tremaining: 8m 19s\n",
      "300:\tlearn: 0.6961507\ttest: 0.6609310\tbest: 0.6616153 (298)\ttotal: 3m 12s\tremaining: 7m 26s\n",
      "400:\tlearn: 0.7087792\ttest: 0.6650270\tbest: 0.6650270 (393)\ttotal: 4m 11s\tremaining: 6m 16s\n",
      "500:\tlearn: 0.7173962\ttest: 0.6672895\tbest: 0.6679713 (480)\ttotal: 5m 11s\tremaining: 5m 10s\n",
      "600:\tlearn: 0.7278259\ttest: 0.6729205\tbest: 0.6741093 (589)\ttotal: 6m 3s\tremaining: 4m 1s\n",
      "700:\tlearn: 0.7370194\ttest: 0.6794397\tbest: 0.6795040 (693)\ttotal: 7m\tremaining: 2m 59s\n",
      "800:\tlearn: 0.7436135\ttest: 0.6820307\tbest: 0.6833265 (789)\ttotal: 7m 55s\tremaining: 1m 58s\n",
      "900:\tlearn: 0.7504001\ttest: 0.6848787\tbest: 0.6848787 (900)\ttotal: 8m 49s\tremaining: 58.2s\n",
      "999:\tlearn: 0.7610165\ttest: 0.6878436\tbest: 0.6885237 (992)\ttotal: 9m 50s\tremaining: 0us\n",
      "\n",
      "bestTest = 0.6885236837\n",
      "bestIteration = 992\n",
      "\n",
      "Shrink model to first 993 iterations.\n"
     ]
    }
   ],
   "source": [
    "model = fit_catboost(X_train, X_test, y_train, y_test)"
   ]
  },
  {
   "cell_type": "code",
   "execution_count": 28,
   "metadata": {},
   "outputs": [
    {
     "data": {
      "image/png": "[encoded data removed]",
      "text/plain": [
       "<Figure size 432x288 with 2 Axes>"
      ]
     },
     "metadata": {
      "needs_background": "light"
     },
     "output_type": "display_data"
    }
   ],
   "source": [
    "import seaborn as sns\n",
    "import matplotlib.pyplot as plt\n",
    "from sklearn.metrics import confusion_matrix\n",
    "\n",
    "class_names = ['not invest', 'invest']\n",
    "\n",
    "def show_confusion_matrix(confusion_matrix):\n",
    "    hmap = sns.heatmap(confusion_matrix, annot=True, fmt=\"d\", cmap=\"Blues\")\n",
    "    hmap.yaxis.set_ticklabels(hmap.yaxis.get_ticklabels(), rotation = 0, ha='right')\n",
    "    hmap.xaxis.set_ticklabels(hmap.xaxis.get_ticklabels(), rotation = 30, ha='right')\n",
    "    plt.ylabel('True Sentiment')\n",
    "    plt.xlabel('Predicted Sentiment')\n",
    "\n",
    "cm = confusion_matrix(y_test, model.predict(X_test))\n",
    "df_cm = pd.DataFrame(cm, index=class_names, columns = class_names)\n",
    "show_confusion_matrix(df_cm)"
   ]
  },
  {
   "cell_type": "code",
   "execution_count": null,
   "metadata": {},
   "outputs": [],
   "source": []
  }
 ],
 "metadata": {
  "colab": {
   "provenance": []
  },
  "kernelspec": {
   "display_name": "Python 3 (ipykernel)",
   "language": "python",
   "name": "python3"
  },
  "language_info": {
   "codemirror_mode": {
    "name": "ipython",
    "version": 3
   },
   "file_extension": ".py",
   "mimetype": "text/x-python",
   "name": "python",
   "nbconvert_exporter": "python",
   "pygments_lexer": "ipython3",
   "version": "3.9.12"
  }
 },
 "nbformat": 4,
 "nbformat_minor": 1
}
